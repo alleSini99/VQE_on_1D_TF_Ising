{
 "cells": [
  {
   "cell_type": "markdown",
   "id": "concrete-musician",
   "metadata": {},
   "source": [
    "# Import some libraries."
   ]
  },
  {
   "cell_type": "code",
   "execution_count": 1,
   "id": "cardiovascular-contract",
   "metadata": {},
   "outputs": [],
   "source": [
    "from qiskit.opflow import Z, I, X, Y\n",
    "from qiskit.opflow import CircuitStateFn, StateFn, CircuitSampler, PauliExpectation, ListOp, AerPauliExpectation\n",
    "from qiskit.providers.aer import AerSimulator\n",
    "from qiskit.providers.aer.noise import NoiseModel\n",
    "from qiskit.utils import QuantumInstance\n",
    "from qiskit.circuit import QuantumCircuit, QuantumRegister, Parameter, ParameterVector\n",
    "from qiskit.algorithms.optimizers import ADAM, SPSA, GradientDescent\n",
    "from qiskit.circuit.library import TwoLocal, EfficientSU2\n",
    "from qiskit.circuit.library.n_local import RealAmplitudes\n",
    "from qiskit import Aer, execute, transpile, IBMQ\n",
    "from qiskit.providers.aer.noise import NoiseModel\n",
    "from qiskit.providers.aer.noise import QuantumError\n",
    "from qiskit.providers.aer.noise import amplitude_damping_error\n",
    "from qiskit.providers.aer.noise import depolarizing_error\n",
    "from qiskit.algorithms import VQE, NumPyMinimumEigensolver\n",
    "import numpy as np\n",
    "import matplotlib.pyplot as plt"
   ]
  },
  {
   "cell_type": "markdown",
   "id": "handy-uncertainty",
   "metadata": {},
   "source": [
    "Let's define the number of qubits $N$. "
   ]
  },
  {
   "cell_type": "code",
   "execution_count": 2,
   "id": "ordered-separation",
   "metadata": {},
   "outputs": [],
   "source": [
    "num_qub = 4"
   ]
  },
  {
   "cell_type": "markdown",
   "id": "planned-scottish",
   "metadata": {},
   "source": [
    "Let's define the transverse field Ising Hamiltonian on a 1D lattice: \n",
    "\\begin{equation}\n",
    "H=J_z\\sum_{i=1}^{N} Z_{i} Z_{i+1} + h\\sum_{i=1}^{N} X_{i},\n",
    "\\end{equation}\n",
    "where $Z_{i}$ and $X_{i}$ are respectively the $Z$ and $X$ Pauli operators acting on the $i$-th qubit. The transverse-field Ising model is the quantum version of the classical Ising model. The Hamiltonian is composed by two types of terms: \n",
    "\n",
    "- nearest neighbour interactions determined by the alignment or anti-alignment of spin projections along the $z$ axis. The energy of these interactions is quantified by $J$. If $J<0$ we have the tendency of alignment between spins and so ferromagnetic coupling, while if $J>0$ the tendency is of anti-alignment and thus the coupling is anti-ferromagnetic. \n",
    "- an external magnetic field along the x axis which creates an energetic bias for the alignment of spins projections along the $x$ axis. The strenght of the magnetic field is determined by $h$. \n",
    "\n",
    "We have considered periodic boundary conditions in the system, namely $N+1 \\equiv 1$."
   ]
  },
  {
   "cell_type": "code",
   "execution_count": 3,
   "id": "decent-relay",
   "metadata": {},
   "outputs": [
    {
     "name": "stdout",
     "output_type": "stream",
     "text": [
      "1.0 * ZZII\n",
      "+ 1.0 * IZZI\n",
      "+ 1.0 * IIZZ\n",
      "+ 1.0 * ZIIZ\n",
      "+ 1.0 * XIII\n",
      "+ 1.0 * IXII\n",
      "+ 1.0 * IIXI\n",
      "+ 1.0 * IIIX\n"
     ]
    }
   ],
   "source": [
    "J = np.ones(num_qub)\n",
    "h = np.ones(num_qub)\n",
    "\n",
    "def create_Hamiltonian(num_qub, J, h):\n",
    "    H = 0\n",
    "    \n",
    "    if(num_qub == 2):\n",
    "        return J[0]*(Z^Z) + h[0]*(X^I) + h[1]*(I^X)\n",
    "    \n",
    "    for i in range(num_qub):\n",
    "        if(i==0 or i==num_qub-1):\n",
    "            pauli_str = J[i]*Z\n",
    "        else: \n",
    "            pauli_str = J[i]*I\n",
    "        for j in range(num_qub):\n",
    "            if(j!=i):\n",
    "                if(j==i+1 or j==i-1):\n",
    "                    pauli_str ^= Z\n",
    "                else:\n",
    "                    pauli_str ^= I\n",
    "        H += pauli_str\n",
    "        \n",
    "    for i in range(num_qub):\n",
    "        if(i==0):\n",
    "            pauli_str = h[i]*X\n",
    "        else: \n",
    "            pauli_str = h[i]*I\n",
    "        for j in range(num_qub-1):\n",
    "            if(j==i-1 and i!=0):\n",
    "                pauli_str ^= X\n",
    "            else:\n",
    "                pauli_str ^= I\n",
    "        H += pauli_str\n",
    "\n",
    "    return H\n",
    "\n",
    "H = create_Hamiltonian(num_qub, J, h)\n",
    "print(H)"
   ]
  },
  {
   "cell_type": "markdown",
   "id": "interstate-cassette",
   "metadata": {},
   "source": [
    "The ansatz considered is an hardware-efficient ansatz and consists in the alternation of rotations around the $Y$ axis on all the qubits followed by $CX$ (to create entanglement) on all possible qubit pairs. "
   ]
  },
  {
   "cell_type": "code",
   "execution_count": null,
   "id": "lasting-glory",
   "metadata": {},
   "outputs": [],
   "source": [
    "num_lay = 2\n",
    "params = ParameterVector('θ', num_qub*num_lay)\n",
    "entanglement = 'linear'\n",
    "ansatz_gates = ['ry', 'rz']\n",
    "\n",
    "def create_ansatz(num_qub, num_lay, params):\n",
    "    ansatz = QuantumCircuit(num_qub)\n",
    "    for i in range(num_lay):\n",
    "        for j in range(num_qub):\n",
    "            ansatz.ry(params[j+i*num_qub], j)\n",
    "        ansatz.barrier()\n",
    "        if(num_qub > 2):\n",
    "            for j in range(num_qub-1):\n",
    "                    #if(j == num_qub-1):\n",
    "                    #    ansatz.cx(0, j)\n",
    "                    #else:\n",
    "                    ansatz.cx(j, j+1)\n",
    "        else: \n",
    "            ansatz.cx(0, 1)\n",
    "        ansatz.barrier()\n",
    "    return ansatz"
   ]
  },
  {
   "cell_type": "code",
   "execution_count": null,
   "id": "level-canada",
   "metadata": {},
   "outputs": [],
   "source": [
    "#ansatz = EfficientSU2(num_qubits = num_qub, su2_gates = ansatz_gates, entanglement = entanglement, reps = num_lay, insert_barriers = True)\n",
    "#ansatz = ansatz.decompose()\n",
    "#ansatz.draw('mpl', filename='./ansatz.pdf')"
   ]
  },
  {
   "cell_type": "markdown",
   "id": "infrared-vessel",
   "metadata": {},
   "source": [
    "Define a class which implement the VQE. "
   ]
  },
  {
   "cell_type": "code",
   "execution_count": null,
   "id": "intended-flood",
   "metadata": {},
   "outputs": [],
   "source": [
    "provider         = IBMQ.load_account()"
   ]
  },
  {
   "cell_type": "code",
   "execution_count": null,
   "id": "loose-photographer",
   "metadata": {},
   "outputs": [],
   "source": [
    "class VQE:\n",
    "    def __init__(self, ansatz, H, noise = 'no', prob = 0):\n",
    "        self.H = H\n",
    "        self.ansatz = ansatz\n",
    "        if(noise == 'no'):\n",
    "            noise_model = None \n",
    "        if(noise == 'yes'):\n",
    "            backend = provider.get_backend('ibmq_manila')\n",
    "            noise_model = NoiseModel.from_backend(backend)\n",
    "        if(noise == 'model'):\n",
    "            noise_model = NoiseModel()\n",
    "            err_1gate = amplitude_damping_error(prob)\n",
    "            err_2gates = err_1gate.tensor(err_1gate)\n",
    "            noise_model.add_all_qubit_quantum_error(err_1gate, [\"u1\", \"u2\", \"u3\"])\n",
    "            noise_model.add_all_qubit_quantum_error(err_2gates, [\"cx\"])\n",
    "            \n",
    "        self.simulator = Aer.get_backend('qasm_simulator')\n",
    "        self.shots = 10000\n",
    "        #self.shots = 1\n",
    "        self.lr = 0.1\n",
    "        \n",
    "        self.quantum_instance = QuantumInstance(backend = self.simulator, shots = self.shots, noise_model = noise_model)\n",
    "        #self.optimizer = ADAM(maxiter=1, tol=1e-06, lr=self.lr, beta_1=0.9, beta_2=0.99, amsgrad=False)\n",
    "        self.optimizer = GradientDescent(maxiter=1, learning_rate=self.lr)\n",
    "        \n",
    "        self.expectationer = PauliExpectation()\n",
    "        #self.expectationer = AerPauliExpectation()\n",
    "        \n",
    "\n",
    "    def expectation_value(self, parameters):\n",
    "        \n",
    "        ansatz_dum = self.ansatz.bind_parameters(parameters)\n",
    "        #ansatz_dum = create_ansatz(num_qub, num_lay, parameters)\n",
    "        ansatz_state = CircuitStateFn(ansatz_dum)\n",
    "        \n",
    "        measurable_expression = StateFn(self.H, is_measurement=True).compose(ansatz_state) \n",
    "        \n",
    "        expectation = self.expectationer.convert(measurable_expression)  \n",
    "\n",
    "        sampler = CircuitSampler(self.quantum_instance).convert(expectation)\n",
    "\n",
    "        return sampler.eval().real\n",
    "            \n",
    "    \n",
    "    def gradient(self, parameters):\n",
    "        \n",
    "        gradients = np.zeros_like(parameters)\n",
    "        for i in range(len(parameters)):\n",
    "           \n",
    "            shift = np.zeros_like(parameters)\n",
    "            shift[i] = np.pi/2\n",
    "            gradients[i] = (self.expectation_value(parameters + shift) - self.expectation_value(parameters - shift))/2\n",
    "        \n",
    "        return gradients\n",
    "    \n",
    "    def update(self,parameters):\n",
    "\n",
    "        parameters, loss, it = self.optimizer.optimize(parameters.size,\n",
    "                        lambda param: self.expectation_value(param),\n",
    "                        gradient_function= lambda param: self.gradient(param), initial_point=parameters)\n",
    "        \n",
    "        #loss = self.expectation_value(parameters)\n",
    "        #gradients = self.gradient(parameters)\n",
    "        #parameters -= self.lr*gradients \n",
    "        \n",
    "        return loss, parameters\n",
    "  "
   ]
  },
  {
   "cell_type": "code",
   "execution_count": null,
   "id": "graphic-reserve",
   "metadata": {},
   "outputs": [],
   "source": [
    "%matplotlib notebook\n",
    "plt.ion()\n",
    "fig = plt.figure()\n",
    "ax = fig.add_subplot(111)\n",
    "fig.show()\n",
    "fig.canvas.draw()\n",
    "\n",
    "num_lay = 4 # 1 for 2 qubits, 2 for 3 qubits and 4 for 4 qubits\n",
    "entanglement = 'linear'\n",
    "ansatz_gates = ['ry', 'rz']\n",
    "ansatz = EfficientSU2(num_qubits = num_qub, su2_gates = ansatz_gates, entanglement = entanglement, reps = num_lay)\n",
    "np.random.seed(1234)\n",
    "parameters = np.pi * np.random.normal(size = len(ansatz.parameters))\n",
    "\n",
    "noise = 'yes'\n",
    "prob = 0.05\n",
    "vqe = VQE(ansatz, H, noise = noise, prob = prob)\n",
    "epochs = 500\n",
    "losses = []\n",
    "exact_energy = min(np.real(np.linalg.eig(H.to_matrix())[0])) \n",
    "print(\"Exact ground energy: \", exact_energy)\n",
    "\n",
    "for i in range(epochs):\n",
    "    \n",
    "    loss, parameters = vqe.update(parameters)\n",
    "    losses.append(loss)\n",
    "    ax.clear()\n",
    "    ax.plot(losses, 'b.', label = 'VQE energy')\n",
    "    ax.plot(exact_energy*np.ones_like(range(epochs)),'k--', label = 'Exact ground energy')\n",
    "    ax.legend()\n",
    "    ax.set_title(\"VQE energy vs epochs and exact ground energy\")\n",
    "    ax.set_ylabel(\"Energy (a.u.)\")\n",
    "    ax.set_xlabel(\"Epoch\")\n",
    "    fig.canvas.draw()\n",
    "   \n",
    "print(\"Ground energy from VQE: \", loss)\n",
    "print(\"Percentual accuracy: \", 100*np.abs((loss-exact_energy)/exact_energy), \"%\")\n",
    "np.savetxt('ground_%iqub_%ilay_ryrz_%s_%sNoise_losses' % (num_qub, num_lay, entanglement, noise), losses)\n",
    "np.savetxt('ground_%iqub_%ilay_ryrz_%s_%sNoise_fin_params'  % (num_qub, num_lay, entanglement, noise), parameters)\n",
    "plt.savefig(\"ground_%iqub_%ilay_ryrz_%s_%sNoise.pdf\"  % (num_qub, num_lay, entanglement, noise))"
   ]
  },
  {
   "cell_type": "markdown",
   "id": "banned-insulin",
   "metadata": {},
   "source": [
    "Plotting"
   ]
  },
  {
   "cell_type": "code",
   "execution_count": null,
   "id": "retired-grave",
   "metadata": {},
   "outputs": [],
   "source": [
    "fig = plt.figure()\n",
    "ax = fig.add_subplot(111)\n",
    "num_lay = 4\n",
    "entanglement = 'linear'\n",
    "noise = 'yes'\n",
    "losses = np.loadtxt('Project_QC/Ising_model/shot-based_backend/with_noise/ground_%iqub_%ilay_ryrz_%s_%sNoise_losses' % (num_qub, num_lay, entanglement, noise))\n",
    "exact_energy = min(np.real(np.linalg.eig(H.to_matrix())[0]))\n",
    "ax.plot(losses, 'b.', label = 'VQE energy')\n",
    "ax.plot(exact_energy*np.ones_like(range(len(losses))),'k--', label = 'Exact ground energy')\n",
    "ax.legend()\n",
    "ax.set_title(\"VQE energy vs epochs and exact ground energy\")\n",
    "ax.set_ylabel(\"Energy (a.u.)\")\n",
    "ax.set_xlabel(\"Epoch\")\n",
    "fig.canvas.draw()\n",
    "print(\"Exact ground energy: \", exact_energy)\n",
    "print(\"VQE ground energy: \",losses[-1])\n",
    "print(\"Accuracy: \", 100*np.abs((losses[-1]-exact_energy)/exact_energy), \"% \\n\")\n",
    "plt.savefig('Project_QC/Ising_model/shot-based_backend/with_noise/ground_%iqub_%ilay_ryrz_%s_%sNoise.pdf'  % (num_qub, num_lay, entanglement, noise))"
   ]
  },
  {
   "cell_type": "markdown",
   "id": "trying-strap",
   "metadata": {},
   "source": [
    "## Overlap based method for excited states and excited energies\n",
    "Once we have obtained an approximation of the ground state we apply the overlap based method to find some low excited energies and corresponding states. \n",
    "### $1^{st}$ excited energy"
   ]
  },
  {
   "cell_type": "code",
   "execution_count": null,
   "id": "catholic-recall",
   "metadata": {},
   "outputs": [],
   "source": [
    "num_lay = 4\n",
    "entanglement = 'linear'\n",
    "ansatz_gates = ['ry', 'rz']\n",
    "noise = 'yes'\n",
    "ansatz = EfficientSU2(num_qubits = num_qub, su2_gates = ansatz_gates, entanglement = entanglement, reps = num_lay)\n",
    "parameters = np.loadtxt('Project_QC/Ising_model/shot-based_backend/with_noise/ground_%iqub_%ilay_ryrz_%s_%sNoise_fin_params' % (num_qub, num_lay, entanglement, noise))\n",
    "\n",
    "ground_circ = ansatz.bind_parameters(parameters)\n",
    "ground_state = CircuitStateFn(ground_circ)"
   ]
  },
  {
   "cell_type": "code",
   "execution_count": null,
   "id": "earlier-production",
   "metadata": {},
   "outputs": [],
   "source": [
    "class first_exc_VQE(VQE):\n",
    "    \n",
    "    def expectation_value(self, parameters):\n",
    "        alpha = 2\n",
    "        ansatz_dum = self.ansatz.bind_parameters(parameters)\n",
    "\n",
    "        ansatz_state = CircuitStateFn(ansatz_dum)\n",
    "        measurable_expression = StateFn(self.H, is_measurement=True).compose(ansatz_state) \n",
    "        overlap = alpha * np.abs((~ground_state @ ansatz_state).eval())\n",
    "        expectation = self.expectationer.convert(measurable_expression)  \n",
    "\n",
    "        sampler = CircuitSampler(self.quantum_instance).convert(expectation)\n",
    "        result = sampler.eval().real + overlap\n",
    "        return result\n"
   ]
  },
  {
   "cell_type": "code",
   "execution_count": null,
   "id": "frequent-clinic",
   "metadata": {},
   "outputs": [],
   "source": [
    "%matplotlib notebook\n",
    "plt.ion()\n",
    "fig = plt.figure()\n",
    "ax = fig.add_subplot(111)\n",
    "fig.show()\n",
    "fig.canvas.draw()\n",
    "\n",
    "num_lay = 4\n",
    "entanglement = 'linear'\n",
    "ansatz_gates = ['ry', 'rz']\n",
    "ansatz = EfficientSU2(num_qubits = num_qub, su2_gates = ansatz_gates, entanglement = entanglement, reps = num_lay)\n",
    "parameters = np.pi * np.random.normal(size = len(ansatz.parameters))\n",
    "\n",
    "noise = 'yes'\n",
    "vqe = first_exc_VQE(ansatz, H, noise = noise)\n",
    "epochs = 500\n",
    "losses = []\n",
    "exact_energy = np.sort(np.real(np.linalg.eig(H.to_matrix())[0]))[1]\n",
    "\n",
    "print(\"Exact 1st excited energy: \", exact_energy)\n",
    "\n",
    "for i in range(epochs):\n",
    "    \n",
    "    loss, parameters = vqe.update(parameters)\n",
    "    losses.append(loss)\n",
    "    ax.clear()\n",
    "    ax.plot(losses, 'b.', label = 'VQE energy')\n",
    "    ax.plot(exact_energy*np.ones_like(range(epochs)),'k--', label = r'Exact $1^{st}$ excited energy')\n",
    "    ax.legend()\n",
    "    ax.set_title(r\"VQE energy vs epochs and exact $1^{st}$ excited energy\")\n",
    "    ax.set_ylabel(\"Energy (a.u.)\")\n",
    "    ax.set_xlabel(\"Epoch\")\n",
    "    fig.canvas.draw()\n",
    "    \n",
    "print(\"1st excited energy from VQE: \", loss)\n",
    "print(\"Percentual accuracy: \", 100*np.abs((loss-exact_energy)/exact_energy), \" %\")\n",
    "np.savetxt('Project_QC/Ising_model/shot-based_backend/with_noise/1st_exc_%iqub_%ilay_ryrz_%s_%sNoise_losses' % (num_qub, num_lay, entanglement, noise), losses)\n",
    "np.savetxt('Project_QC/Ising_model/shot-based_backend/with_noise/1st_exc_%iqub_%ilay_ryrz_%s_%sNoise_fin_params'  % (num_qub, num_lay, entanglement, noise), parameters)\n",
    "plt.savefig(\"Project_QC/Ising_model/shot-based_backend/with_noise/1st_exc_%iqub_%ilay_ryrz_%s_%sNoise.pdf\"  % (num_qub, num_lay, entanglement, noise))"
   ]
  },
  {
   "cell_type": "markdown",
   "id": "accepting-detail",
   "metadata": {},
   "source": [
    "Plotting"
   ]
  },
  {
   "cell_type": "code",
   "execution_count": null,
   "id": "powered-seminar",
   "metadata": {},
   "outputs": [],
   "source": [
    "fig = plt.figure()\n",
    "ax = fig.add_subplot(111)\n",
    "num_lay = 4\n",
    "entanglement = 'linear'\n",
    "ansatz_gates = ['ry', 'rz']\n",
    "noise = 'yes'\n",
    "losses = np.loadtxt('Project_QC/Ising_model/shot-based_backend/with_noise/1st_exc_%iqub_%ilay_ryrz_%s_%sNoise_losses' % (num_qub, num_lay, entanglement, noise))\n",
    "exact_energy = np.sort(np.real(np.linalg.eig(H.to_matrix())[0]))[1]\n",
    "ax.plot(losses, 'b.', label = 'VQE energy')\n",
    "ax.plot(exact_energy*np.ones_like(range(len(losses))),'k--', label = r'Exact $1^{st}$ excited energy')\n",
    "ax.legend()\n",
    "ax.set_title(r\"VQE energy vs epochs and exact $1^{st}$ excited energy\")\n",
    "ax.set_ylabel(\"Energy (a.u.)\")\n",
    "ax.set_xlabel(\"Epoch\")\n",
    "fig.canvas.draw()\n",
    "print(\"Exact 1st excited ground energy: \", exact_energy)\n",
    "print(\"VQE 1st excited energy: \",losses[-1])\n",
    "print(\"Accuracy: \", 100*np.abs((losses[-1]-exact_energy)/exact_energy), \"% \\n\")\n",
    "plt.savefig(\"Project_QC/Ising_model/shot-based_backend/with_noise/1st_exc_%iqub_%ilay_ryrz_%s_%sNoise.pdf\"  % (num_qub, num_lay, entanglement, noise))\n"
   ]
  },
  {
   "cell_type": "markdown",
   "id": "caring-dining",
   "metadata": {},
   "source": [
    "### $2^{nd}$ excited energy"
   ]
  },
  {
   "cell_type": "code",
   "execution_count": null,
   "id": "adapted-bunny",
   "metadata": {},
   "outputs": [],
   "source": [
    "num_lay = 4\n",
    "entanglement = 'linear'\n",
    "ansatz_gates = ['ry', 'rz']\n",
    "noise = 'yes'\n",
    "ansatz = EfficientSU2(num_qubits = num_qub, su2_gates = ansatz_gates, entanglement = entanglement, reps = num_lay)\n",
    "parameters = np.loadtxt('Project_QC/Ising_model/shot-based_backend/with_noise/1st_exc_%iqub_%ilay_ryrz_%s_%sNoise_fin_params'  % (num_qub, num_lay, entanglement, noise))\n",
    "first_exc_circ = ansatz.bind_parameters(parameters)\n",
    "first_exc_state = CircuitStateFn(first_exc_circ)"
   ]
  },
  {
   "cell_type": "code",
   "execution_count": null,
   "id": "living-funds",
   "metadata": {},
   "outputs": [],
   "source": [
    "class sec_exc_VQE(VQE):\n",
    "    \n",
    "    def expectation_value(self, parameters):\n",
    "        alpha = 5\n",
    "        ansatz_dum = self.ansatz.bind_parameters(parameters)\n",
    "\n",
    "        ansatz_state = CircuitStateFn(ansatz_dum)\n",
    "        measurable_expression = StateFn(self.H, is_measurement=True).compose(ansatz_state) \n",
    "        overlap = alpha * (np.abs((~ground_state @ ansatz_state).eval()) + np.abs((~first_exc_state @ ansatz_state).eval()))\n",
    "        expectation = self.expectationer.convert(measurable_expression)  \n",
    "\n",
    "        sampler = CircuitSampler(self.quantum_instance).convert(expectation)\n",
    "        result = sampler.eval().real + overlap\n",
    "        return result"
   ]
  },
  {
   "cell_type": "code",
   "execution_count": null,
   "id": "celtic-building",
   "metadata": {
    "scrolled": true
   },
   "outputs": [],
   "source": [
    "%matplotlib notebook\n",
    "plt.ion()\n",
    "fig = plt.figure()\n",
    "ax = fig.add_subplot(111)\n",
    "fig.show()\n",
    "fig.canvas.draw()\n",
    "\n",
    "num_lay = 6\n",
    "entanglement = 'linear'\n",
    "ansatz_gates = ['ry', 'rz']\n",
    "ansatz = EfficientSU2(num_qubits = num_qub, su2_gates = ansatz_gates, entanglement = entanglement, reps = num_lay)\n",
    "parameters = np.pi * np.random.normal(size = len(ansatz.parameters))\n",
    "\n",
    "noise = 'yes'\n",
    "vqe = sec_exc_VQE(ansatz, H, noise = noise)\n",
    "epochs = 500\n",
    "losses = []\n",
    "exact_energy = np.sort(np.real(np.linalg.eig(H.to_matrix())[0]))[2]\n",
    "\n",
    "print(\"Exact 2nd excited energy: \", exact_energy)\n",
    "\n",
    "for i in range(epochs):\n",
    "    \n",
    "    loss, parameters = vqe.update(parameters)\n",
    "    losses.append(loss)\n",
    "    ax.clear()\n",
    "    ax.plot(losses, 'b.', label = 'VQE energy')\n",
    "    ax.plot(exact_energy*np.ones_like(range(epochs)),'k--', label = r'Exact $2^{nd}$ excited energy')\n",
    "    ax.legend()\n",
    "    ax.set_title(r\"VQE energy vs epochs and exact $2^{nd}$ excited energy\")\n",
    "    ax.set_ylabel(\"Energy (a.u.)\")\n",
    "    ax.set_xlabel(\"Epoch\")\n",
    "    fig.canvas.draw()\n",
    "\n",
    "print(\"2nd excited energy from VQE: \", loss)\n",
    "print(\"Percentual accuracy: \", 100*np.abs((loss-exact_energy)/exact_energy), \" %\")\n",
    "np.savetxt('Project_QC/Ising_model/shot-based_backend/with_noise/2nd_exc_%iqub_%ilay_ryrz_%s_%sNoise_losses' % (num_qub, num_lay, entanglement, noise), losses)\n",
    "np.savetxt('Project_QC/Ising_model/shot-based_backend/with_noise/2nd_exc_%iqub_%ilay_ryrz_%s_%sNoise_fin_params'  % (num_qub, num_lay, entanglement, noise), parameters)\n",
    "plt.savefig(\"Project_QC/Ising_model/shot-based_backend/with_noise/2nd_exc_%iqub_%ilay_ryrz_%s_%sNoise.pdf\"  % (num_qub, num_lay, entanglement, noise))"
   ]
  },
  {
   "cell_type": "code",
   "execution_count": null,
   "id": "thick-maryland",
   "metadata": {},
   "outputs": [],
   "source": [
    "print(np.mean(100*np.abs((losses[-30:]-exact_energy)/exact_energy)))\n",
    "print(losses[-30:])"
   ]
  },
  {
   "cell_type": "code",
   "execution_count": null,
   "id": "sonic-office",
   "metadata": {},
   "outputs": [],
   "source": [
    "fig = plt.figure()\n",
    "ax = fig.add_subplot(111)\n",
    "num_lay = 6\n",
    "entanglement = 'linear'\n",
    "ansatz_gates = ['ry', 'rz']\n",
    "noise = 'yes'\n",
    "losses = np.loadtxt('Project_QC/Ising_model/shot-based_backend/with_noise/2nd_exc_%iqub_%ilay_ryrz_%s_%sNoise_losses' % (num_qub, num_lay, entanglement, noise))\n",
    "exact_energy = np.sort(np.real(np.linalg.eig(H.to_matrix())[0]))[2]\n",
    "ax.plot(losses, 'b.', label = 'VQE energy')\n",
    "ax.plot(exact_energy*np.ones_like(range(len(losses))),'k--', label = r'Exact $2^{nd}$ excited energy')\n",
    "ax.legend()\n",
    "ax.set_title(r\"VQE energy vs epochs and exact $2^{nd}$ excited energy\")\n",
    "ax.set_ylabel(\"Energy (a.u.)\")\n",
    "ax.set_xlabel(\"Epoch\")\n",
    "fig.canvas.draw()\n",
    "print(\"Exact 2nd excited ground energy: \", exact_energy)\n",
    "print(\"VQE 2nd excited energy: \",losses[-1])\n",
    "print(\"Accuracy: \", 100*np.abs((losses[-1]-exact_energy)/exact_energy), \"% \\n\")\n",
    "plt.savefig(\"Project_QC/Ising_model/shot-based_backend/with_noise/2nd_exc_%iqub_%ilay_ryrz_%s_%sNoise.pdf\"  % (num_qub, num_lay, entanglement, noise))\n"
   ]
  },
  {
   "cell_type": "markdown",
   "id": "behind-clone",
   "metadata": {},
   "source": [
    "## Three lowest energies and states"
   ]
  },
  {
   "cell_type": "code",
   "execution_count": null,
   "id": "accessory-lying",
   "metadata": {},
   "outputs": [],
   "source": [
    "%matplotlib notebook\n",
    "plt.ion()\n",
    "fig = plt.figure()\n",
    "ax = fig.add_subplot(111)\n",
    "fig.show()\n",
    "fig.canvas.draw()\n",
    "state_labels = ['ground', '1st_exc', '2nd_exc']\n",
    "nums_lay = [4, 4, 6]\n",
    "colors = ['blue', 'green', 'red']\n",
    "noise = 'no'\n",
    "for i in range(len(state_labels)): \n",
    "    losses = np.loadtxt('Project_QC/Ising_model/shot-based_backend/without_noise/%s_%iqub_%ilay_ryrz_%s_%sNoise_losses' % (state_labels[i], num_qub, nums_lay[i], entanglement, noise))\n",
    "    exact_energy = np.sort(np.real(np.linalg.eig(H.to_matrix())[0]))[i]\n",
    "    print(\"Exact %s energy: \" % (state_labels[i]), exact_energy)\n",
    "    print(\"VQE %s energy: \" % (state_labels[i]),np.mean(losses[-50:]))\n",
    "    print(\"Accuracy: \", 100*np.abs((np.mean(losses[-50:])-exact_energy)/exact_energy), \"% \\n\")\n",
    "    ax.plot(losses, 'b.', label = 'VQE energy', color = colors[i])\n",
    "    ax.plot(exact_energy*np.ones_like(range(len(losses))),'k--', label = r'Exact %s energy' % (state_labels[i]))\n",
    "    ax.legend()\n",
    "    ax.set_xlim([-2, 500])\n",
    "    title = r\"VQE energies vs epochs and exact energies\"\n",
    "    if(noise == 'yes'):\n",
    "        title += ' with noise'\n",
    "    ax.set_title(title)\n",
    "    ax.set_ylabel(\"Energy (a.u.)\")\n",
    "    ax.set_xlabel(\"Epoch\")\n",
    "    ax.set_ylim(top=2)\n",
    "fig.canvas.draw()\n",
    "plt.savefig(\"Project_QC/Ising_model/shot-based_backend/without_noise/3_energies_%sNoise.pdf\" % noise)"
   ]
  },
  {
   "cell_type": "code",
   "execution_count": 24,
   "id": "geological-scheduling",
   "metadata": {},
   "outputs": [
    {
     "name": "stdout",
     "output_type": "stream",
     "text": [
      "Exact ground energy:  -2.2360679774997876\n",
      "VQE ground energy:  -2.2363799999999996\n",
      "Accuracy:  0.013954070419669765 % \n",
      "\n",
      "VQE ground energy:  -2.044988\n",
      "Accuracy:  8.545356376573114 % \n",
      "\n"
     ]
    },
    {
     "data": {
      "image/png": "[encoded data removed]",
      "text/plain": [
       "<Figure size 432x288 with 1 Axes>"
      ]
     },
     "metadata": {
      "needs_background": "light"
     },
     "output_type": "display_data"
    }
   ],
   "source": [
    "fig = plt.figure()\n",
    "ax = fig.add_subplot(111)\n",
    "fig.canvas.draw()\n",
    "num_qub = 2\n",
    "num_lay = 1\n",
    "H = create_Hamiltonian(num_qub, J, h)\n",
    "exact_energy = np.sort(np.real(np.linalg.eig(H.to_matrix())[0]))[0]\n",
    "print(\"Exact ground energy: \", exact_energy)\n",
    "\n",
    "losses = np.loadtxt('Project_QC/Ising_model/shot-based_backend/without_noise/%i_qub/ground_%iqub_%ilay_ryrz_linear_noNoise_losses' % (num_qub, num_qub, num_lay))\n",
    "print(\"VQE ground energy: \", np.mean(losses[-50:]))\n",
    "print(\"Accuracy: \", 100*np.abs((np.mean(losses[-50:])-exact_energy)/exact_energy), \"% \\n\")\n",
    "ax.plot(losses, 'b.', label = 'VQE energy without noise', color = 'blue')\n",
    "\n",
    "losses = np.loadtxt('Project_QC/Ising_model/shot-based_backend/with_noise/%i_qub/ground_%iqub_%ilay_ryrz_linear_yesNoise_losses' % (num_qub, num_qub, num_lay))\n",
    "print(\"VQE ground energy: \", np.mean(losses[-50:]))\n",
    "print(\"Accuracy: \", 100*np.abs((np.mean(losses[-50:])-exact_energy)/exact_energy), \"% \\n\")\n",
    "ax.plot(losses, 'b.', label = 'VQE energy with noise', color = 'black')\n",
    "ax.plot(exact_energy*np.ones_like(range(len(losses))),'k--', label = r'Exact $E_{0}$')\n",
    "\n",
    "ax.legend()\n",
    "ax.set_xlim([-2, 500])\n",
    "title = r\"VQE ground energy with QC noise model for $n = %i$ qubits\" % num_qub\n",
    "ax.set_title(title)\n",
    "ax.set_ylabel(\"Energy (a.u.)\")\n",
    "ax.set_xlabel(\"Epoch\")\n",
    "ax.set_ylim(top=2)\n",
    "#ax.set_facecolor('#e4e6e8')\n",
    "#plt.grid(color='white', linestyle = '--', linewidth = 2)\n",
    "plt.grid(linestyle = '--')\n",
    "fig.canvas.draw()\n",
    "plt.savefig(\"with_without_noise_shot-based_%i_qub.pdf\" % num_qub)"
   ]
  },
  {
   "cell_type": "code",
   "execution_count": null,
   "id": "gross-marina",
   "metadata": {},
   "outputs": [],
   "source": []
  }
 ],
 "metadata": {
  "kernelspec": {
   "display_name": "Python 3",
   "language": "python",
   "name": "python3"
  },
  "language_info": {
   "codemirror_mode": {
    "name": "ipython",
    "version": 3
   },
   "file_extension": ".py",
   "mimetype": "text/x-python",
   "name": "python",
   "nbconvert_exporter": "python",
   "pygments_lexer": "ipython3",
   "version": "3.8.5"
  }
 },
 "nbformat": 4,
 "nbformat_minor": 5
}
